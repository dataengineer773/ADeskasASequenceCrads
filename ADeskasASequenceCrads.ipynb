{
 "cells": [
  {
   "cell_type": "code",
   "execution_count": 1,
   "id": "715b9e51-af80-4c5e-acff-490fd3f04b9c",
   "metadata": {},
   "outputs": [
    {
     "name": "stdout",
     "output_type": "stream",
     "text": [
      "Requirement already satisfied: collection in c:\\users\\dell\\miniconda3\\lib\\site-packages (0.1.6)\n"
     ]
    }
   ],
   "source": [
    "!pip install collection"
   ]
  },
  {
   "cell_type": "code",
   "execution_count": 2,
   "id": "98e026c5-d765-403a-958b-656e875b36e9",
   "metadata": {},
   "outputs": [],
   "source": [
    "import collection"
   ]
  },
  {
   "cell_type": "raw",
   "id": "56d17840-2468-4dad-855f-0f5886faad20",
   "metadata": {},
   "source": [
    "Card = collections.namedtupple('Card', ['rank', 'suit'])"
   ]
  },
  {
   "cell_type": "code",
   "execution_count": 3,
   "id": "9e80a98b-97d5-4fea-bbbe-35288a34cb48",
   "metadata": {},
   "outputs": [],
   "source": [
    "class FrenchDeck:\n",
    "    ranks = [str(n) for n in range(2, 11)] + list('JQKA')\n",
    "    suits = 'spades diamonds clubs hearts'.split() "
   ]
  },
  {
   "cell_type": "code",
   "execution_count": 4,
   "id": "ad8f51a5-f7ff-4bf3-a728-1fd6408ec652",
   "metadata": {},
   "outputs": [],
   "source": [
    "def __init__(self):\n",
    "    self._cards = [Card (rank, suit) for suit in self.suits\n",
    "                                     for rank in self.ranks]"
   ]
  },
  {
   "cell_type": "code",
   "execution_count": 5,
   "id": "639ebed6-dd9b-4d8d-ad82-c7ba05d9de7f",
   "metadata": {},
   "outputs": [],
   "source": [
    "def __len__(self):\n",
    "    return len(self,_cards)"
   ]
  },
  {
   "cell_type": "code",
   "execution_count": 6,
   "id": "b918af37-7e3f-441d-bbe7-8339c9fb56fd",
   "metadata": {},
   "outputs": [],
   "source": [
    "def __getitem__(self, position):\n",
    "    return self._card[positioon]"
   ]
  },
  {
   "cell_type": "code",
   "execution_count": null,
   "id": "7fb029a4-c91f-44a5-a4d0-b62aed7d84d2",
   "metadata": {},
   "outputs": [],
   "source": []
  }
 ],
 "metadata": {
  "kernelspec": {
   "display_name": "Python 3 (ipykernel)",
   "language": "python",
   "name": "python3"
  },
  "language_info": {
   "codemirror_mode": {
    "name": "ipython",
    "version": 3
   },
   "file_extension": ".py",
   "mimetype": "text/x-python",
   "name": "python",
   "nbconvert_exporter": "python",
   "pygments_lexer": "ipython3",
   "version": "3.12.3"
  }
 },
 "nbformat": 4,
 "nbformat_minor": 5
}
